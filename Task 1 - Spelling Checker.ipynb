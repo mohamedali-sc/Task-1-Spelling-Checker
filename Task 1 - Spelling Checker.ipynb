{
 "cells": [
  {
   "cell_type": "code",
   "execution_count": 13,
   "id": "c0710dc7",
   "metadata": {},
   "outputs": [],
   "source": [
    "class TrieNode:\n",
    "    def __init__(self):\n",
    "        self.children = {}\n",
    "        self.is_end_of_word = False\n",
    "\n",
    "class  SpellingChecker:\n",
    "    def __init__(self):\n",
    "        self.root = TrieNode()\n",
    "\n",
    "    def add_word_to_dictionary(self, word):\n",
    "        node = self.root\n",
    "        for char in word:\n",
    "            if char not in node.children:\n",
    "                node.children[char] = TrieNode()\n",
    "            node = node.children[char]\n",
    "        node.is_end_of_word = True\n",
    "\n",
    "    def find_nearest_four_words(self, word):\n",
    "        def dfs(node, path):\n",
    "            if len(found_words) >= 4:\n",
    "                return\n",
    "            if node.is_end_of_word:\n",
    "                found_words.append(''.join(path))\n",
    "            for char, child in node.children.items():\n",
    "                dfs(child, path + [char])\n",
    "        node = self.root\n",
    "        found_words = []\n",
    "        for char in word:\n",
    "            if char not in node.children:\n",
    "                return []\n",
    "            node = node.children[char]\n",
    "\n",
    "        if node.is_end_of_word:\n",
    "            found_words.append(word)\n",
    "        dfs(node, [char for char in word])\n",
    "        return found_words\n",
    "    \n",
    "    def spell_check(self, word):\n",
    "        node = self.root\n",
    "        for char in word:\n",
    "            if char not in node.children:\n",
    "                return self.find_nearest_four_words(word)\n",
    "            node = node.children[char]\n",
    "        return [word] if node.is_end_of_word else self.find_nearest_four_words(word)\n"
   ]
  },
  {
   "cell_type": "code",
   "execution_count": 16,
   "id": "174165ea",
   "metadata": {},
   "outputs": [
    {
     "name": "stdout",
     "output_type": "stream",
     "text": [
      "Nearest four words: ['mohair', 'mohammed', 'mohammedan', 'mohammedans']\n"
     ]
    }
   ],
   "source": [
    "dictionary_file = \"dictionary.txt\"\n",
    "spell_checker =  SpellingChecker()\n",
    "\n",
    "with open(dictionary_file, \"r\", encoding=\"latin-1\") as file:\n",
    "    for line in file:\n",
    "        word = line.strip().lower()  \n",
    "        spell_checker.add_word_to_dictionary(word)\n",
    "\n",
    "# Example :\n",
    "input_w= \"moh\"\n",
    "nearest_words = spell_checker.spell_check(input_w)\n",
    "print(\"Nearest four words:\", nearest_words)"
   ]
  },
  {
   "cell_type": "code",
   "execution_count": null,
   "id": "04f47e6a",
   "metadata": {},
   "outputs": [],
   "source": [
    "#1-Store the dictionary in a suitable data structure (Trie)\n",
    "#Time Complexity: O(N * L), where N is the number of words in the dictionary, and L is the average length of a word.\n",
    "#pace Complexity: O(N * L)\n",
    "#2-Find the nearest 4 words if a word is not in the dictionary:\n",
    "#Time Complexity: O(L), where L is the length of the input word\n",
    "#Space Complexity: O(1)\n",
    "#3-Add a word to the dictionary:\n",
    "#Time Complexity: O(L)\n",
    "##Space Complexity: O(1)"
   ]
  }
 ],
 "metadata": {
  "kernelspec": {
   "display_name": "Python 3 (ipykernel)",
   "language": "python",
   "name": "python3"
  },
  "language_info": {
   "codemirror_mode": {
    "name": "ipython",
    "version": 3
   },
   "file_extension": ".py",
   "mimetype": "text/x-python",
   "name": "python",
   "nbconvert_exporter": "python",
   "pygments_lexer": "ipython3",
   "version": "3.10.9"
  }
 },
 "nbformat": 4,
 "nbformat_minor": 5
}
